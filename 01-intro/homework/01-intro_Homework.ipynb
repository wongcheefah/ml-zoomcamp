{
 "cells": [
  {
   "cell_type": "markdown",
   "id": "d471d9e2",
   "metadata": {},
   "source": [
    "# ML Zoomcamp 2023 - Homework #1\n",
    "\n",
    "Name: Wong Chee Fah\n",
    "\n",
    "Email: wongcheefah@gmail.com"
   ]
  },
  {
   "cell_type": "code",
   "execution_count": 1,
   "id": "d41f4e04",
   "metadata": {},
   "outputs": [],
   "source": [
    "import pandas as pd\n",
    "import numpy as np"
   ]
  },
  {
   "cell_type": "markdown",
   "id": "04f65997",
   "metadata": {},
   "source": [
    "### Question 1: Version of Pandas"
   ]
  },
  {
   "cell_type": "code",
   "execution_count": 2,
   "id": "10a5330a",
   "metadata": {},
   "outputs": [
    {
     "data": {
      "text/plain": [
       "'2.0.3'"
      ]
     },
     "execution_count": 2,
     "metadata": {},
     "output_type": "execute_result"
    }
   ],
   "source": [
    "pd.__version__"
   ]
  },
  {
   "cell_type": "markdown",
   "id": "192365e6",
   "metadata": {},
   "source": [
    "#### Ans: 2.0.3"
   ]
  },
  {
   "cell_type": "markdown",
   "id": "a81f82a8",
   "metadata": {},
   "source": [
    "### Question 2: Number of columns in the dataset"
   ]
  },
  {
   "cell_type": "code",
   "execution_count": 3,
   "id": "8b406497",
   "metadata": {
    "scrolled": true
   },
   "outputs": [
    {
     "name": "stdout",
     "output_type": "stream",
     "text": [
      "(20640, 10)\n",
      "<class 'pandas.core.frame.DataFrame'>\n",
      "RangeIndex: 20640 entries, 0 to 20639\n",
      "Data columns (total 10 columns):\n",
      " #   Column              Non-Null Count  Dtype  \n",
      "---  ------              --------------  -----  \n",
      " 0   longitude           20640 non-null  float64\n",
      " 1   latitude            20640 non-null  float64\n",
      " 2   housing_median_age  20640 non-null  float64\n",
      " 3   total_rooms         20640 non-null  float64\n",
      " 4   total_bedrooms      20433 non-null  float64\n",
      " 5   population          20640 non-null  float64\n",
      " 6   households          20640 non-null  float64\n",
      " 7   median_income       20640 non-null  float64\n",
      " 8   median_house_value  20640 non-null  float64\n",
      " 9   ocean_proximity     20640 non-null  object \n",
      "dtypes: float64(9), object(1)\n",
      "memory usage: 1.6+ MB\n"
     ]
    }
   ],
   "source": [
    "housing = pd.read_csv('https://raw.githubusercontent.com/alexeygrigorev/datasets/master/housing.csv')\n",
    "print(housing.shape)\n",
    "housing.info()"
   ]
  },
  {
   "cell_type": "markdown",
   "id": "c0605966",
   "metadata": {},
   "source": [
    "#### Ans: 10"
   ]
  },
  {
   "cell_type": "markdown",
   "id": "e89fc609",
   "metadata": {},
   "source": [
    "### Question 3: Select columns with missing data"
   ]
  },
  {
   "cell_type": "code",
   "execution_count": 4,
   "id": "b84a7519",
   "metadata": {
    "scrolled": true
   },
   "outputs": [
    {
     "data": {
      "text/plain": [
       "longitude               0\n",
       "latitude                0\n",
       "housing_median_age      0\n",
       "total_rooms             0\n",
       "total_bedrooms        207\n",
       "population              0\n",
       "households              0\n",
       "median_income           0\n",
       "median_house_value      0\n",
       "ocean_proximity         0\n",
       "dtype: int64"
      ]
     },
     "execution_count": 4,
     "metadata": {},
     "output_type": "execute_result"
    }
   ],
   "source": [
    "housing.isnull().sum()"
   ]
  },
  {
   "cell_type": "markdown",
   "id": "e78529d8",
   "metadata": {},
   "source": [
    "#### Ans: total_bedrooms"
   ]
  },
  {
   "cell_type": "markdown",
   "id": "81b90c77",
   "metadata": {},
   "source": [
    "### Question 4: Number of unique values in the 'ocean_proximity' column"
   ]
  },
  {
   "cell_type": "code",
   "execution_count": 5,
   "id": "0fc6a99e",
   "metadata": {
    "scrolled": true
   },
   "outputs": [
    {
     "data": {
      "text/plain": [
       "5"
      ]
     },
     "execution_count": 5,
     "metadata": {},
     "output_type": "execute_result"
    }
   ],
   "source": [
    "housing['ocean_proximity'].nunique()"
   ]
  },
  {
   "cell_type": "markdown",
   "id": "a0a4ae6b",
   "metadata": {},
   "source": [
    "#### Ans: 5"
   ]
  },
  {
   "cell_type": "markdown",
   "id": "582bddba",
   "metadata": {},
   "source": [
    "### Question 5: Average value of the 'median_house_value' for the houses near the bay"
   ]
  },
  {
   "cell_type": "code",
   "execution_count": 6,
   "id": "fe8f12b0",
   "metadata": {
    "scrolled": false
   },
   "outputs": [
    {
     "data": {
      "text/plain": [
       "259212.31179039303"
      ]
     },
     "execution_count": 6,
     "metadata": {},
     "output_type": "execute_result"
    }
   ],
   "source": [
    "housing[housing['ocean_proximity']=='NEAR BAY']['median_house_value'].mean()"
   ]
  },
  {
   "cell_type": "markdown",
   "id": "6ef7f4ae",
   "metadata": {},
   "source": [
    "#### Ans: 259212"
   ]
  },
  {
   "cell_type": "markdown",
   "id": "6c364cc8",
   "metadata": {},
   "source": [
    "### Question 6: Has the mean value changed after filling missing values?"
   ]
  },
  {
   "cell_type": "code",
   "execution_count": 7,
   "id": "b834bd4a",
   "metadata": {},
   "outputs": [
    {
     "data": {
      "text/plain": [
       "537.8705525375618"
      ]
     },
     "execution_count": 7,
     "metadata": {},
     "output_type": "execute_result"
    }
   ],
   "source": [
    "ttl_bdrm_mean = housing['total_bedrooms'].mean()\n",
    "ttl_bdrm_mean"
   ]
  },
  {
   "cell_type": "code",
   "execution_count": 8,
   "id": "58782e68",
   "metadata": {
    "scrolled": true
   },
   "outputs": [
    {
     "data": {
      "text/plain": [
       "537.8705525375617"
      ]
     },
     "execution_count": 8,
     "metadata": {},
     "output_type": "execute_result"
    }
   ],
   "source": [
    "housing['total_bedrooms'].fillna(ttl_bdrm_mean).mean()"
   ]
  },
  {
   "cell_type": "markdown",
   "id": "54cdc49f",
   "metadata": {},
   "source": [
    "#### Ans: No"
   ]
  },
  {
   "cell_type": "markdown",
   "id": "d7b353de",
   "metadata": {},
   "source": [
    "### Questions 7: Value of the last element of w"
   ]
  },
  {
   "cell_type": "code",
   "execution_count": 9,
   "id": "19fbb5ba",
   "metadata": {
    "scrolled": true
   },
   "outputs": [
    {
     "data": {
      "text/plain": [
       "array([[  27., 1675.,  521.],\n",
       "       [  52., 2359.,  591.],\n",
       "       [  52., 2127.,  512.],\n",
       "       [  52.,  996.,  264.],\n",
       "       [  29.,  716.,  214.]])"
      ]
     },
     "execution_count": 9,
     "metadata": {},
     "output_type": "execute_result"
    }
   ],
   "source": [
    "X = housing[housing['ocean_proximity']=='ISLAND'][['housing_median_age', 'total_rooms', 'total_bedrooms']].values\n",
    "X"
   ]
  },
  {
   "cell_type": "code",
   "execution_count": 10,
   "id": "9f0598fe",
   "metadata": {
    "scrolled": true
   },
   "outputs": [
    {
     "data": {
      "text/plain": [
       "array([[9.6820000e+03, 3.5105300e+05, 9.1357000e+04],\n",
       "       [3.5105300e+05, 1.4399307e+07, 3.7720360e+06],\n",
       "       [9.1357000e+04, 3.7720360e+06, 9.9835800e+05]])"
      ]
     },
     "execution_count": 10,
     "metadata": {},
     "output_type": "execute_result"
    }
   ],
   "source": [
    "XTX = X.T.dot(X)\n",
    "XTX"
   ]
  },
  {
   "cell_type": "code",
   "execution_count": 11,
   "id": "b93eaf3d",
   "metadata": {
    "scrolled": true
   },
   "outputs": [
    {
     "data": {
      "text/plain": [
       "array([[ 9.19403586e-04, -3.66412216e-05,  5.43072261e-05],\n",
       "       [-3.66412216e-05,  8.23303633e-06, -2.77534485e-05],\n",
       "       [ 5.43072261e-05, -2.77534485e-05,  1.00891325e-04]])"
      ]
     },
     "execution_count": 11,
     "metadata": {},
     "output_type": "execute_result"
    }
   ],
   "source": [
    "inv_XTX = np.linalg.inv(XTX)\n",
    "inv_XTX"
   ]
  },
  {
   "cell_type": "code",
   "execution_count": 12,
   "id": "958fd615",
   "metadata": {},
   "outputs": [
    {
     "data": {
      "text/plain": [
       "array([ 950, 1300,  800, 1000, 1300])"
      ]
     },
     "execution_count": 12,
     "metadata": {},
     "output_type": "execute_result"
    }
   ],
   "source": [
    "y = np.array([950, 1300, 800, 1000, 1300])\n",
    "y"
   ]
  },
  {
   "cell_type": "code",
   "execution_count": 13,
   "id": "8a5cc98a",
   "metadata": {
    "scrolled": true
   },
   "outputs": [
    {
     "data": {
      "text/plain": [
       "array([23.12330961, -1.48124183,  5.69922946])"
      ]
     },
     "execution_count": 13,
     "metadata": {},
     "output_type": "execute_result"
    }
   ],
   "source": [
    "w = inv_XTX.dot(X.T).dot(y)\n",
    "w"
   ]
  },
  {
   "cell_type": "markdown",
   "id": "23e46f18",
   "metadata": {},
   "source": [
    "#### Ans: 5.6992"
   ]
  }
 ],
 "metadata": {
  "kernelspec": {
   "display_name": "Python 3 (ipykernel)",
   "language": "python",
   "name": "python3"
  },
  "language_info": {
   "codemirror_mode": {
    "name": "ipython",
    "version": 3
   },
   "file_extension": ".py",
   "mimetype": "text/x-python",
   "name": "python",
   "nbconvert_exporter": "python",
   "pygments_lexer": "ipython3",
   "version": "3.9.18"
  }
 },
 "nbformat": 4,
 "nbformat_minor": 5
}
